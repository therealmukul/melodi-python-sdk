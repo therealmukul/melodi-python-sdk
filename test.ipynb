{
 "cells": [
  {
   "cell_type": "code",
   "execution_count": 1,
   "id": "14a5ed45-2ebf-47ad-95f3-ad55f3c0017a",
   "metadata": {},
   "outputs": [],
   "source": [
    "import os\n",
    "import json\n",
    "\n",
    "from melodi.api import MelodiClient"
   ]
  },
  {
   "cell_type": "code",
   "execution_count": 2,
   "id": "69d377e7-c6b8-4b73-b6c6-a7c7052bcd60",
   "metadata": {},
   "outputs": [],
   "source": [
    "os.environ['MELODI_API_KEY'] = \"44808bc9-d2d0-48a1-ae20-f4623f6585a9\""
   ]
  },
  {
   "cell_type": "code",
   "execution_count": 3,
   "id": "e869a7a1-9fcd-4f1b-9489-2bcff1710471",
   "metadata": {},
   "outputs": [],
   "source": [
    "client = MelodiClient(verbose=True)"
   ]
  },
  {
   "cell_type": "code",
   "execution_count": 4,
   "id": "eae9c7d4-44b7-4c53-affd-e5ea2fb0785d",
   "metadata": {},
   "outputs": [
    {
     "name": "stderr",
     "output_type": "stream",
     "text": [
      "INFO:melodi.api:Loading samples from: binary_sample_data.jsonl\n",
      "INFO:melodi.api:Experiment type = binary\n",
      "INFO:melodi.api:Loaded 7 samples\n"
     ]
    }
   ],
   "source": [
    "binary_samples = client.load_samples(\n",
    "    file_path='binary_sample_data.jsonl', \n",
    "    experiment_type='binary'\n",
    ")"
   ]
  },
  {
   "cell_type": "code",
   "execution_count": 5,
   "id": "974cba29-3383-48b0-9ad9-f7148d3e106f",
   "metadata": {},
   "outputs": [
    {
     "name": "stderr",
     "output_type": "stream",
     "text": [
      "INFO:melodi.api:Successfully create Melodi experiment.\n",
      "INFO:melodi.api:Experiment ID: 1416\n"
     ]
    }
   ],
   "source": [
    "client.create_binary_evaluation_experiment(\n",
    "    name='Test Binary Experiment - 3',\n",
    "    instructions='These are some instructions',\n",
    "    samples=binary_samples\n",
    ")"
   ]
  },
  {
   "cell_type": "code",
   "execution_count": 3,
   "id": "756b1e03-8397-4824-a298-aacb6f82ea20",
   "metadata": {},
   "outputs": [],
   "source": [
    "client = MelodiClient(verbose=True)"
   ]
  },
  {
   "cell_type": "code",
   "execution_count": 4,
   "id": "1dff173e-3dfc-4617-a2ca-fbe478bbcdac",
   "metadata": {},
   "outputs": [
    {
     "name": "stderr",
     "output_type": "stream",
     "text": [
      "INFO:melodi.api:Loading samples from: bakeoff_sample_data.jsonl\n",
      "INFO:melodi.api:Experiment type = bake-off\n",
      "INFO:melodi.api:Loaded 5 samples\n"
     ]
    }
   ],
   "source": [
    "bakeoff_samples = client.load_samples(\n",
    "    file_path='bakeoff_sample_data.jsonl',\n",
    "    experiment_type='bake_off'\n",
    ")"
   ]
  },
  {
   "cell_type": "code",
   "execution_count": 5,
   "id": "0b31c343-33ba-43d0-98c8-9dde59dfdcd0",
   "metadata": {},
   "outputs": [
    {
     "data": {
      "text/plain": [
       "[{'samples': [{'promptLabel': 'Prompt A',\n",
       "    'response': 'Response 1A',\n",
       "    'message': 'Message 1A',\n",
       "    'title': 'Title 1A'},\n",
       "   {'promptLabel': 'Prompt B',\n",
       "    'response': 'Response 1B',\n",
       "    'message': 'Message 1B',\n",
       "    'title': 'Title 1B'}]},\n",
       " {'samples': [{'promptLabel': 'Prompt A',\n",
       "    'response': 'Response 2A',\n",
       "    'message': 'Message 2A',\n",
       "    'title': 'Title 2A'},\n",
       "   {'promptLabel': 'Prompt B',\n",
       "    'response': 'Response 2B',\n",
       "    'message': 'Message 2B',\n",
       "    'title': 'Title 2B'}]},\n",
       " {'samples': [{'promptLabel': 'Prompt A',\n",
       "    'response': 'Response 3A',\n",
       "    'message': 'Message 3A',\n",
       "    'title': 'Title 3A'},\n",
       "   {'promptLabel': 'Prompt B',\n",
       "    'response': 'Response 3B',\n",
       "    'message': 'Message 3B',\n",
       "    'title': 'Title 3B'}]},\n",
       " {'samples': [{'promptLabel': 'Prompt A',\n",
       "    'response': 'Response 4A',\n",
       "    'message': 'Message 4A',\n",
       "    'title': 'Title 4A'},\n",
       "   {'promptLabel': 'Prompt B',\n",
       "    'response': 'Response 4B',\n",
       "    'message': 'Message 4B',\n",
       "    'title': 'Title 4B'}]},\n",
       " {'samples': [{'promptLabel': 'Prompt A',\n",
       "    'response': 'Response 5A',\n",
       "    'message': 'Message 5A',\n",
       "    'title': 'Title 5A'},\n",
       "   {'promptLabel': 'Prompt B',\n",
       "    'response': 'Response 5B',\n",
       "    'message': 'Message 5B',\n",
       "    'title': 'Title 5B'}]}]"
      ]
     },
     "execution_count": 5,
     "metadata": {},
     "output_type": "execute_result"
    }
   ],
   "source": [
    "bakeoff_samples"
   ]
  },
  {
   "cell_type": "code",
   "execution_count": 6,
   "id": "0ef252d0-db1d-46bd-a193-5c32bfc539ea",
   "metadata": {},
   "outputs": [
    {
     "name": "stderr",
     "output_type": "stream",
     "text": [
      "INFO:melodi.api:Successfully create Melodi experiment.\n",
      "INFO:melodi.api:Experiment ID: 1417\n"
     ]
    }
   ],
   "source": [
    "client.create_bake_off_evaluation_experiment(\n",
    "    name='Test Bakeoff Experiment',\n",
    "    instructions='These are some instructions.',\n",
    "    comparisons=bakeoff_samples\n",
    ")"
   ]
  },
  {
   "cell_type": "code",
   "execution_count": 8,
   "id": "0187dc99-d920-46f7-90fe-f9e795c580ad",
   "metadata": {},
   "outputs": [
    {
     "data": {
      "text/plain": [
       "{'experiment': {'name': 'test', 'instructions': None, 'project': None},\n",
       " 'comparisons': [[{'promptLabel': 'Prompt A',\n",
       "    'response': 'Response 1A',\n",
       "    'message': 'Message 1A',\n",
       "    'title': 'Title 1A'},\n",
       "   {'promptLabel': 'Prompt B',\n",
       "    'response': 'Response 1B',\n",
       "    'message': 'Message 1B',\n",
       "    'title': 'Title 1B'}],\n",
       "  [{'promptLabel': 'Prompt A',\n",
       "    'response': 'Response 2A',\n",
       "    'message': 'Message 2A',\n",
       "    'title': 'Title 2A'},\n",
       "   {'promptLabel': 'Prompt B',\n",
       "    'response': 'Response 2B',\n",
       "    'message': 'Message 2B',\n",
       "    'title': 'Title 2B'}],\n",
       "  [{'promptLabel': 'Prompt A',\n",
       "    'response': 'Response 3A',\n",
       "    'message': 'Message 3A',\n",
       "    'title': 'Title 3A'},\n",
       "   {'promptLabel': 'Prompt B',\n",
       "    'response': 'Response 3B',\n",
       "    'message': 'Message 3B',\n",
       "    'title': 'Title 3B'}],\n",
       "  [{'promptLabel': 'Prompt A',\n",
       "    'response': 'Response 4A',\n",
       "    'message': 'Message 4A',\n",
       "    'title': 'Title 4A'},\n",
       "   {'promptLabel': 'Prompt B',\n",
       "    'response': 'Response 4B',\n",
       "    'message': 'Message 4B',\n",
       "    'title': 'Title 4B'}],\n",
       "  [{'promptLabel': 'Prompt A',\n",
       "    'response': 'Response 5A',\n",
       "    'message': 'Message 5A',\n",
       "    'title': 'Title 5A'},\n",
       "   {'promptLabel': 'Prompt B',\n",
       "    'response': 'Response 5B',\n",
       "    'message': 'Message 5B',\n",
       "    'title': 'Title 5B'}]]}"
      ]
     },
     "execution_count": 8,
     "metadata": {},
     "output_type": "execute_result"
    }
   ],
   "source": [
    "request_data = {\n",
    "    \"experiment\": {\n",
    "        \"name\": 'test',\n",
    "        \"instructions\": None,\n",
    "        \"project\": None,\n",
    "    },\n",
    "    \"comparisons\": bakeoff_samples,\n",
    "}\n",
    "\n",
    "request_data"
   ]
  },
  {
   "cell_type": "code",
   "execution_count": null,
   "id": "78ce52dc-6417-4d47-903a-cf01fb591cf5",
   "metadata": {},
   "outputs": [],
   "source": [
    "import random\n",
    "\n",
    "def generate_comparisons_data(num_comparisons: int) -> list:\n",
    "    comparisons = []\n",
    "    \n",
    "    for i in range(num_comparisons):\n",
    "        comparison = {\n",
    "            \"samples\": [\n",
    "                {\n",
    "                    \"promptLabel\": \"Prompt A\",\n",
    "                    \"response\": f\"Response {i+1}A\",\n",
    "                    \"message\": f\"Message {i+1}A\",\n",
    "                    \"title\": f\"Title {i+1}A\"\n",
    "                },\n",
    "                {\n",
    "                    \"promptLabel\": \"Prompt B\",\n",
    "                    \"response\": f\"Response {i+1}B\",\n",
    "                    \"message\": f\"Message {i+1}B\",\n",
    "                    \"title\": f\"Title {i+1}B\"\n",
    "                }\n",
    "            ]\n",
    "        }\n",
    "        comparisons.append(comparison)\n",
    "    \n",
    "    return comparisons\n",
    "\n",
    "# Example usage:\n",
    "num_comparisons = 5\n",
    "data = generate_comparisons_data(num_comparisons)\n",
    "\n",
    "create_jsonl_file(data['samples'], 'bakeoff_sample_data.jsonl')"
   ]
  },
  {
   "cell_type": "code",
   "execution_count": 9,
   "id": "f3fac1c7-947c-4cc3-981a-82f0650fe073",
   "metadata": {},
   "outputs": [],
   "source": [
    "def create_jsonl_file(data: list, file_path: str):\n",
    "    \"\"\"\n",
    "    Create a JSONL file with JSON objects containing keys: \"response\" and \"title\".\n",
    "\n",
    "    Args:\n",
    "        data (list): A list of dictionaries with keys \"response\" and \"title\".\n",
    "        file_path (str): The path where the JSONL file will be saved.\n",
    "    \"\"\"\n",
    "    with open(file_path, 'w') as file:\n",
    "        for item in data:\n",
    "            json_line = json.dumps(item)\n",
    "            file.write(json_line + '\\n')\n",
    "\n",
    "# Example usage:\n",
    "data = [\n",
    "    {\"response\": \"This was an internal strategy meeting discussing market potential of our newly launched hull sensor color variants. The majority consensus proposed focus on maritime commercial sector for the next quarter. An action item has been assigned to the marketing team to come up with promotional strategies targeting fishing trawlers and freight ships.\", \"title\": \"call transcript summary for the first sample\"},\n",
    "    {\"response\": \"The call was a technical discussion with a potential supplier, Flutter Components. Flutter offered several cost-effectiveness tactics in component sourcing that could potentially enhance margins of our anti-fouling hull sensors. The technical team will further assess feasibility of this collaboration by running trial tests of Flutter's components over the next month.\", \"title\": \"personalized call sample\"},\n",
    "    {\"response\": \"We had a sales call with one of the biggest maritime authorities, North Sea Shipping. They showed an avid interest in our anti-fouling hull sensors and its potential to minimize maintenance costs. A follow-up call has been scheduled for an in-depth product demonstration.\", \"title\": \"call transcript summary\"},\n",
    "    {\"response\": \"The discussion was about a concern raised by a long-standing client, Pacific Blue Cruises, regarding our hull sensors. Their team experienced slight deviations in sensor readings. Our technical support team has taken note of this and decided to inspect the installed sensors.\", \"title\": \"call transcript summary\"},\n",
    "    {\"response\": \"In the team strategy meeting, we discussed sales performance in the Western European market. With the growing acceptance of our anti-fouling hull sensors among small to mid-size boat owners, the team agreed to increase marketing efforts in this region, specifically packed with marinas and boat clubs.\", \"title\": \"call transcript summary\"},\n",
    "    {\"response\": \"Our call with GSEA Marine, potential distributor, was productive. They're highly interested in the anti-fouling hull sensor technology, and believe it could complement their existing product line. The product management team will be working with GSEA to finalize an exclusive distribution agreement.\", \"title\": \"call transcript summary\"},\n",
    "    {\"response\": \"The call revolved around the technical specifications of our hull sensors with a potential business partner, Hudson Tech. They were particularly interested in sensor durability and software compatibility. We have forwarded them our tech specs brochure for further deliberation.\", \"title\": \"call transcript summary\"},\n",
    "]\n",
    "\n",
    "create_jsonl_file(data, 'binary_sample_data.jsonl')"
   ]
  }
 ],
 "metadata": {
  "kernelspec": {
   "display_name": "Python 3 (ipykernel)",
   "language": "python",
   "name": "python3"
  },
  "language_info": {
   "codemirror_mode": {
    "name": "ipython",
    "version": 3
   },
   "file_extension": ".py",
   "mimetype": "text/x-python",
   "name": "python",
   "nbconvert_exporter": "python",
   "pygments_lexer": "ipython3",
   "version": "3.9.19"
  }
 },
 "nbformat": 4,
 "nbformat_minor": 5
}
