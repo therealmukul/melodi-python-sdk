{
 "cells": [
  {
   "cell_type": "code",
   "execution_count": 1,
   "id": "41d1d8bc-4eae-4d43-a59b-ffd9b1cb1a25",
   "metadata": {},
   "outputs": [],
   "source": [
    "import os\n",
    "import json"
   ]
  },
  {
   "cell_type": "code",
   "execution_count": 2,
   "id": "0bddbdca-e69b-45e9-8f9f-ffbc2c4c219e",
   "metadata": {},
   "outputs": [],
   "source": [
    "def create_jsonl_file(data: list, file_path: str):\n",
    "    \"\"\"\n",
    "    Create a JSONL file with JSON objects containing keys: \"response\" and \"title\".\n",
    "\n",
    "    Args:\n",
    "        data (list): A list of dictionaries with keys \"response\" and \"title\".\n",
    "        file_path (str): The path where the JSONL file will be saved.\n",
    "    \"\"\"\n",
    "    with open(file_path, 'w') as file:\n",
    "        for item in data:\n",
    "            json_line = json.dumps(item)\n",
    "            file.write(json_line + '\\n')\n",
    "\n",
    "# Example usage:\n",
    "data = [\n",
    "    {\"response\": \"This was an internal strategy meeting discussing market potential of our newly launched hull sensor color variants. The majority consensus proposed focus on maritime commercial sector for the next quarter. An action item has been assigned to the marketing team to come up with promotional strategies targeting fishing trawlers and freight ships.\", \"title\": \"call transcript summary for the first sample\"},\n",
    "    {\"response\": \"The call was a technical discussion with a potential supplier, Flutter Components. Flutter offered several cost-effectiveness tactics in component sourcing that could potentially enhance margins of our anti-fouling hull sensors. The technical team will further assess feasibility of this collaboration by running trial tests of Flutter's components over the next month.\", \"title\": \"personalized call sample\"},\n",
    "    {\"response\": \"We had a sales call with one of the biggest maritime authorities, North Sea Shipping. They showed an avid interest in our anti-fouling hull sensors and its potential to minimize maintenance costs. A follow-up call has been scheduled for an in-depth product demonstration.\", \"title\": \"call transcript summary\"},\n",
    "    {\"response\": \"The discussion was about a concern raised by a long-standing client, Pacific Blue Cruises, regarding our hull sensors. Their team experienced slight deviations in sensor readings. Our technical support team has taken note of this and decided to inspect the installed sensors.\", \"title\": \"call transcript summary\"},\n",
    "    {\"response\": \"In the team strategy meeting, we discussed sales performance in the Western European market. With the growing acceptance of our anti-fouling hull sensors among small to mid-size boat owners, the team agreed to increase marketing efforts in this region, specifically packed with marinas and boat clubs.\", \"title\": \"call transcript summary\"},\n",
    "    {\"response\": \"Our call with GSEA Marine, potential distributor, was productive. They're highly interested in the anti-fouling hull sensor technology, and believe it could complement their existing product line. The product management team will be working with GSEA to finalize an exclusive distribution agreement.\", \"title\": \"call transcript summary\"},\n",
    "    {\"response\": \"The call revolved around the technical specifications of our hull sensors with a potential business partner, Hudson Tech. They were particularly interested in sensor durability and software compatibility. We have forwarded them our tech specs brochure for further deliberation.\", \"title\": \"call transcript summary\"},\n",
    "]\n",
    "\n",
    "create_jsonl_file(data, 'binary_sample_data.jsonl')"
   ]
  }
 ],
 "metadata": {
  "kernelspec": {
   "display_name": "Python 3 (ipykernel)",
   "language": "python",
   "name": "python3"
  },
  "language_info": {
   "codemirror_mode": {
    "name": "ipython",
    "version": 3
   },
   "file_extension": ".py",
   "mimetype": "text/x-python",
   "name": "python",
   "nbconvert_exporter": "python",
   "pygments_lexer": "ipython3",
   "version": "3.9.19"
  }
 },
 "nbformat": 4,
 "nbformat_minor": 5
}
